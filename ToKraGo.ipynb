{
 "cells": [
  {
   "cell_type": "code",
   "execution_count": 9,
   "metadata": {},
   "outputs": [],
   "source": [
    "import cv2\n",
    "import numpy as np\n",
    "\n",
    "from methods import hough_goban, show_image"
   ]
  },
  {
   "cell_type": "code",
   "execution_count": null,
   "metadata": {
    "collapsed": true
   },
   "outputs": [],
   "source": [
    "ap = argparse.ArgumentParser()\n",
    "ap.add_argument('--image', required=True, help='Path to the input image.')\n",
    "args = vars(ap.parse_args())\n",
    "\n",
    "image = cv2.imread(args['image'])\n",
    "image = cv2.bilateralFilter(image, 11, 17, 17)\n",
    "gray = cv2.cvtColor(image, cv2.COLOR_BGR2GRAY)\n",
    "edged = cv2.Canny(gray, 50, 150,apertureSize = 3)\n",
    "\n",
    "kernel = cv2.getStructuringElement(cv2.MORPH_RECT, (21, 7))\n",
    "closed = cv2.morphologyEx(edged, cv2.MORPH_CLOSE, kernel)\n",
    "\n",
    "#CountourGoban(edged, image)\n",
    "#HoughGoban(closed, image)\n",
    "\n",
    "ShowImage([closed, image, CountourGoban(closed, image)], [\"closed\", \"image\", \"Contour\"])"
   ]
  }
 ],
 "metadata": {
  "kernelspec": {
   "display_name": "Python 3",
   "language": "python",
   "name": "python3"
  },
  "language_info": {
   "codemirror_mode": {
    "name": "ipython",
    "version": 3
   },
   "file_extension": ".py",
   "mimetype": "text/x-python",
   "name": "python",
   "nbconvert_exporter": "python",
   "pygments_lexer": "ipython3",
   "version": "3.6.3"
  }
 },
 "nbformat": 4,
 "nbformat_minor": 2
}
