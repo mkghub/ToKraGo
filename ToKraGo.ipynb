{
 "cells": [
  {
   "cell_type": "code",
   "execution_count": 1,
   "metadata": {},
   "outputs": [
    {
     "ename": "ModuleNotFoundError",
     "evalue": "No module named 'cv2'",
     "output_type": "error",
     "traceback": [
      "\u001b[1;31m---------------------------------------------------------------------------\u001b[0m",
      "\u001b[1;31mModuleNotFoundError\u001b[0m                       Traceback (most recent call last)",
      "\u001b[1;32m<ipython-input-1-0275e1a2a0b4>\u001b[0m in \u001b[0;36m<module>\u001b[1;34m()\u001b[0m\n\u001b[0;32m      1\u001b[0m \u001b[1;34m\"\"\"Automatic Go/Baduk/Weiqi recorder.\"\"\"\u001b[0m\u001b[1;33m\u001b[0m\u001b[0m\n\u001b[0;32m      2\u001b[0m \u001b[1;32mimport\u001b[0m \u001b[0margparse\u001b[0m\u001b[1;33m\u001b[0m\u001b[0m\n\u001b[1;32m----> 3\u001b[1;33m \u001b[1;32mimport\u001b[0m \u001b[0mcv2\u001b[0m\u001b[1;33m\u001b[0m\u001b[0m\n\u001b[0m\u001b[0;32m      4\u001b[0m \u001b[1;32mimport\u001b[0m \u001b[0mnumpy\u001b[0m \u001b[1;32mas\u001b[0m \u001b[0mnp\u001b[0m\u001b[1;33m\u001b[0m\u001b[0m\n\u001b[0;32m      5\u001b[0m \u001b[1;32mfrom\u001b[0m \u001b[0medge\u001b[0m \u001b[1;32mimport\u001b[0m \u001b[0mCountourGoban\u001b[0m\u001b[1;33m,\u001b[0m \u001b[0mHoughGoban\u001b[0m\u001b[1;33m,\u001b[0m \u001b[0mShowImage\u001b[0m\u001b[1;33m\u001b[0m\u001b[0m\n",
      "\u001b[1;31mModuleNotFoundError\u001b[0m: No module named 'cv2'"
     ]
    }
   ],
   "source": [
    "from dependencies import *\n",
    "from helperFuncs import *\n",
    "\n",
    "\n",
    "if __name__ == \"__main__\":\n",
    "\tap = argparse.ArgumentParser()\n",
    "\tap.add_argument('--image', required=True, help='Path to the input image.')\n",
    "\targs = vars(ap.parse_args())\n",
    "\n",
    "\timage = cv2.imread(args['image'])\n",
    "\timage = cv2.bilateralFilter(image, 11, 17, 17)\n",
    "\tgray = cv2.cvtColor(image, cv2.COLOR_BGR2GRAY)\n",
    "\tedged = cv2.Canny(gray, 50, 150,apertureSize = 3)\n",
    "\n",
    "\tkernel = cv2.getStructuringElement(cv2.MORPH_RECT, (21, 7))\n",
    "\tclosed = cv2.morphologyEx(edged, cv2.MORPH_CLOSE, kernel)\n",
    "\n",
    "\t#CountourGoban(edged, image)\n",
    "\t#HoughGoban(closed, image)\n",
    "\n",
    "\tShowImage([closed, image, CountourGoban(closed, image)], [\"closed\", \"image\", \"Contour\"])"
   ]
  }
 ],
 "metadata": {
  "kernelspec": {
   "display_name": "Python 3",
   "language": "python",
   "name": "python3"
  },
  "language_info": {
   "codemirror_mode": {
    "name": "ipython",
    "version": 3
   },
   "file_extension": ".py",
   "mimetype": "text/x-python",
   "name": "python",
   "nbconvert_exporter": "python",
   "pygments_lexer": "ipython3",
   "version": "3.6.2"
  }
 },
 "nbformat": 4,
 "nbformat_minor": 2
}
